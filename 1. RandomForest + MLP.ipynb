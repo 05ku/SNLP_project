{
 "cells": [
  {
   "cell_type": "code",
   "execution_count": 13,
   "id": "4e3904a9-8f59-4628-a6f1-f2ace00b517c",
   "metadata": {
    "tags": []
   },
   "outputs": [],
   "source": [
    "import numpy as np\n",
    "import pandas as pd\n",
    "import collections\n",
    "import matplotlib.pyplot as plt\n",
    "import seaborn as sns\n",
    "\n",
    "!pip install -q stanza\n",
    "import stanza\n",
    "stanza.download('en', verbose=False)\n",
    "\n",
    "import nltk\n",
    "nltk.download(\"stopwords\", quiet=True)\n",
    "from nltk.corpus import stopwords\n",
    "stopwords = stopwords.words('english')\n",
    "\n",
    "from sklearn.model_selection import train_test_split\n",
    "from sklearn.decomposition import TruncatedSVD\n",
    "from sklearn.neural_network import MLPClassifier\n",
    "from sklearn.ensemble import RandomForestClassifier\n",
    "from sklearn.metrics import accuracy_score, precision_score, f1_score, confusion_matrix"
   ]
  },
  {
   "cell_type": "markdown",
   "id": "483db4d6-6055-4e12-91cf-1962ca6e87f3",
   "metadata": {},
   "source": [
    "#### Preprocessing the data:"
   ]
  },
  {
   "cell_type": "code",
   "execution_count": 2,
   "id": "0da4a2fa-d548-4de7-bac7-8cfcffb02533",
   "metadata": {
    "tags": []
   },
   "outputs": [
    {
     "name": "stdout",
     "output_type": "stream",
     "text": [
      "Preprocessing the data...\n",
      "Preprocessing done!\n"
     ]
    }
   ],
   "source": [
    "data = pd.read_csv('train_2024.csv', quoting = 3)   # id, text and label\n",
    "labels = np.array( data['label'] )[:5000]\n",
    "comments = np.array( data['text'] )[:5000]\n",
    "\n",
    "print('Preprocessing the data...')\n",
    "\n",
    "nlp = stanza.Pipeline(lang='en', processors='tokenize, lemma',  verbose=False)\n",
    "comments = [nlp(x).sentences for x in comments]\n",
    "comments = [[sent.words for sent in comment] for comment in comments]\n",
    "\n",
    "normalised_comments = []\n",
    "for comment in comments:\n",
    "    new_comment = []\n",
    "    for sent in comment:\n",
    "        for word in sent:\n",
    "            lemma = word.lemma.lower()\n",
    "            if lemma not in stopwords and lemma.isalpha():\n",
    "                new_comment.append(lemma)\n",
    "    normalised_comments.append(new_comment)\n",
    "    \n",
    "print('Preprocessing done!')\n",
    "\n",
    "comments_train, comments_test, labels_train, labels_test = train_test_split(normalised_comments, labels, train_size = 0.6)"
   ]
  },
  {
   "cell_type": "markdown",
   "id": "662e3b79-5d96-4687-95a8-fc862a02984d",
   "metadata": {},
   "source": [
    "#### Computing the features of the training data:"
   ]
  },
  {
   "cell_type": "code",
   "execution_count": 3,
   "id": "fbfadc26-5b0c-4f12-a896-f362dd6299c9",
   "metadata": {
    "tags": []
   },
   "outputs": [],
   "source": [
    "def create_matrix(comments):\n",
    "    vocab = set()\n",
    "    for comment in comments:\n",
    "        vocab.update(comment)\n",
    "    sorted_vocab = sorted(vocab)\n",
    "\n",
    "    rows = len(sorted_vocab)\n",
    "    columns = len(comments)\n",
    "    matrix = np.zeros((rows,columns))\n",
    "\n",
    "    for i in range(columns):\n",
    "        comment = comments[i]\n",
    "        count = collections.Counter(comment)\n",
    "        for word in count:\n",
    "            matrix[sorted_vocab.index(word),i] = count[word]\n",
    "    return matrix, sorted_vocab"
   ]
  },
  {
   "cell_type": "code",
   "execution_count": 4,
   "id": "770d5242-3908-457e-b8dc-b52c2139d13f",
   "metadata": {
    "tags": []
   },
   "outputs": [],
   "source": [
    "def tf_idf(matrix):\n",
    "    rows, columns = matrix.shape\n",
    "    tf_idf_matrix = np.zeros((rows,columns))\n",
    "    idf_vector = np.zeros((rows,1))\n",
    "    \n",
    "    for i in range(rows):\n",
    "        d_ft = np.count_nonzero(matrix[i,:])\n",
    "        for j in range(columns):\n",
    "            tf = matrix[i][j]\n",
    "            idf = np.log10(columns / d_ft)\n",
    "            \n",
    "            tf_idf_matrix[i,j] = tf * idf\n",
    "            idf_vector[i] = idf\n",
    "    \n",
    "    return tf_idf_matrix, idf_vector      "
   ]
  },
  {
   "cell_type": "code",
   "execution_count": 5,
   "id": "dafc11fc-b00f-4223-a026-5e0757375f8e",
   "metadata": {
    "tags": []
   },
   "outputs": [],
   "source": [
    "matrix_train, sorted_vocab = create_matrix(comments_train)\n",
    "tf_idf_matrix, idf_vector = tf_idf(matrix_train)\n",
    "\n",
    "n_topics = 250\n",
    "tf_idf_svd = TruncatedSVD(n_components = n_topics)\n",
    "tf_idf_matrix_dense = tf_idf_svd.fit_transform(tf_idf_matrix.T).T"
   ]
  },
  {
   "cell_type": "markdown",
   "id": "403c65fa-4287-4ee3-9762-b6bb1fa371a4",
   "metadata": {},
   "source": [
    "#### Computing the features of the test set:"
   ]
  },
  {
   "cell_type": "code",
   "execution_count": 6,
   "id": "0ef15acd-3837-401f-973e-6fe72933b83a",
   "metadata": {
    "tags": []
   },
   "outputs": [],
   "source": [
    "def create_matrix_queries(comments, sorted_vocab):\n",
    "    rows = len(sorted_vocab)\n",
    "    columns = len(comments)\n",
    "    matrix = np.zeros((rows,columns))\n",
    "    \n",
    "    for i in range(columns):\n",
    "        comment = comments[i]\n",
    "        count = collections.Counter(comment)\n",
    "        for word in count:\n",
    "            if word in sorted_vocab:\n",
    "                matrix[sorted_vocab.index(word),i] = count[word]\n",
    "    return matrix   "
   ]
  },
  {
   "cell_type": "code",
   "execution_count": 7,
   "id": "45f4b501-6dde-4303-b18d-7b15551ac409",
   "metadata": {
    "tags": []
   },
   "outputs": [],
   "source": [
    "queries = create_matrix_queries(comments_test, sorted_vocab)\n",
    "tf_idf_queries = queries * idf_vector\n",
    "tf_idf_queries_dense = tf_idf_svd.transform(tf_idf_queries.T).T"
   ]
  },
  {
   "cell_type": "markdown",
   "id": "dd111687-feb9-4b95-955f-3a78ba1560ec",
   "metadata": {},
   "source": [
    "#### Gathering the features in panda DataFrames:"
   ]
  },
  {
   "cell_type": "code",
   "execution_count": 8,
   "id": "1636e98c-45a4-489e-b1a4-684f095534b6",
   "metadata": {
    "tags": []
   },
   "outputs": [],
   "source": [
    "pd_train = pd.DataFrame(columns = range(n_topics), index = range(len(comments_train)))\n",
    "for i in range(len(comments_train)):\n",
    "    pd_train.loc[i] = tf_idf_matrix_dense[:,i]\n",
    "    \n",
    "pd_test = pd.DataFrame(columns = range(n_topics), index = range(len(comments_test)))\n",
    "for i in range(len(comments_test)):\n",
    "    pd_test.loc[i] = tf_idf_queries_dense[:,i]"
   ]
  },
  {
   "cell_type": "markdown",
   "id": "b69275e7-5dd9-40c0-a3b0-c2c4d1db12fc",
   "metadata": {},
   "source": [
    "#### Implementing a random forest:"
   ]
  },
  {
   "cell_type": "code",
   "execution_count": 32,
   "id": "2aa308a0-81dd-450d-b4ec-693e7a5e805f",
   "metadata": {
    "tags": []
   },
   "outputs": [],
   "source": [
    "rf = RandomForestClassifier(criterion = 'log_loss', random_state = 0)\n",
    "rf.fit(pd_train, labels_train)\n",
    "rf_labels_prediction = rf.predict(pd_test)"
   ]
  },
  {
   "cell_type": "markdown",
   "id": "a00bfe02-10b8-4292-af62-b0810e908e6b",
   "metadata": {},
   "source": [
    "#### Results (Random Forest):"
   ]
  },
  {
   "cell_type": "code",
   "execution_count": 33,
   "id": "ba82c981-6391-4495-9c26-65cf2b10ee74",
   "metadata": {
    "tags": []
   },
   "outputs": [
    {
     "name": "stdout",
     "output_type": "stream",
     "text": [
      "Precision:  0.8118081180811808\n",
      "Accuracy:  0.709\n",
      "F1 score:  0.43052837573385516\n"
     ]
    }
   ],
   "source": [
    "rf_precision = precision_score(labels_test, rf_labels_prediction)\n",
    "rf_accuracy = accuracy_score(labels_test, rf_labels_prediction)\n",
    "rf_f1 = f1_score(labels_test, rf_labels_prediction)\n",
    "\n",
    "print('Precision: ', rf_precision)\n",
    "print('Accuracy: ', rf_accuracy)\n",
    "print('F1 score: ', rf_f1)"
   ]
  },
  {
   "cell_type": "code",
   "execution_count": 34,
   "id": "e8ae3b12-16cb-4047-88d3-c77310e721d4",
   "metadata": {
    "tags": []
   },
   "outputs": [
    {
     "data": {
      "image/png": "[encoded data removed]",
      "text/plain": [
       "<Figure size 640x480 with 2 Axes>"
      ]
     },
     "metadata": {},
     "output_type": "display_data"
    }
   ],
   "source": [
    "fig, ax = plt.subplots(1, 1)\n",
    "\n",
    "conf_mat = confusion_matrix(labels_test, rf_labels_prediction)\n",
    "sns.heatmap(conf_mat, annot = True, fmt = 'g', ax = ax)\n",
    "ax.set_xlabel('Predicted labels', fontsize = 13)\n",
    "ax.set_ylabel('True labels\\n', fontsize = 13)\n",
    "ax.set_title('Random Forest\\n', fontsize = 15, weight = 'bold')\n",
    "ax.xaxis.set_ticklabels(['Non toxic', 'Toxic\\n'], fontsize = 10)\n",
    "ax.yaxis.set_ticklabels(['Non toxic', 'Toxic'], fontsize = 10)\n",
    "\n",
    "fig.tight_layout()"
   ]
  },
  {
   "cell_type": "markdown",
   "id": "ec9624dc-9eac-4073-b8d1-fd94a9851335",
   "metadata": {},
   "source": [
    "#### Implementing a multipercepytron classifier (MLP Classifier):"
   ]
  },
  {
   "cell_type": "code",
   "execution_count": 23,
   "id": "28f137f5-bc17-41d1-8757-8d0b0fe77c90",
   "metadata": {
    "tags": []
   },
   "outputs": [],
   "source": [
    "mlp = MLPClassifier(hidden_layer_sizes = 1000, max_iter = 1000)\n",
    "mlp.fit(pd_train, labels_train)\n",
    "mlp_labels_prediction = mlp.predict(pd_test)"
   ]
  },
  {
   "cell_type": "markdown",
   "id": "bea88943-a9d0-4f70-9462-10342fcc1589",
   "metadata": {},
   "source": [
    "#### Results (MLP Classifier):"
   ]
  },
  {
   "cell_type": "code",
   "execution_count": 24,
   "id": "b8b925cf-32e9-460a-bc8f-c306d480cb8a",
   "metadata": {
    "tags": []
   },
   "outputs": [
    {
     "name": "stdout",
     "output_type": "stream",
     "text": [
      "Precision:  0.7239819004524887\n",
      "Accuracy:  0.773\n",
      "F measure:  0.6789250353606789\n"
     ]
    }
   ],
   "source": [
    "mlp_precision = precision_score(labels_test, mlp_labels_prediction)\n",
    "mlp_accuracy = accuracy_score(labels_test, mlp_labels_prediction)\n",
    "mlp_f1 = f1_score(labels_test, mlp_labels_prediction)\n",
    "\n",
    "print('Precision: ', mlp_precision)\n",
    "print('Accuracy: ', mlp_accuracy)\n",
    "print('F measure: ', mlp_f1)"
   ]
  },
  {
   "cell_type": "code",
   "execution_count": 25,
   "id": "e6c2e7da-9381-4689-abac-a25e740f6762",
   "metadata": {
    "tags": []
   },
   "outputs": [
    {
     "data": {
      "image/png": "[encoded data removed]",
      "text/plain": [
       "<Figure size 640x480 with 2 Axes>"
      ]
     },
     "metadata": {},
     "output_type": "display_data"
    }
   ],
   "source": [
    "fig, ax = plt.subplots(1, 1)\n",
    "\n",
    "conf_mat = confusion_matrix(labels_test, mlp_labels_prediction)\n",
    "sns.heatmap(conf_mat, annot = True, fmt = 'g', ax = ax)\n",
    "ax.set_xlabel('Predicted labels', fontsize = 13)\n",
    "ax.set_ylabel('True labels\\n', fontsize = 13)\n",
    "ax.set_title('MLP Classifier\\n', fontsize = 15, weight = 'bold')\n",
    "ax.xaxis.set_ticklabels(['Non toxic', 'Toxic\\n'], fontsize = 10)\n",
    "ax.yaxis.set_ticklabels(['Non toxic', 'Toxic'], fontsize = 10)\n",
    "\n",
    "fig.tight_layout()"
   ]
  },
  {
   "cell_type": "code",
   "execution_count": null,
   "id": "3ef4f155-61c9-412e-aa4e-ff76f6df1c68",
   "metadata": {},
   "outputs": [],
   "source": []
  }
 ],
 "metadata": {
  "kernelspec": {
   "display_name": "Python 3",
   "language": "python",
   "name": "python3"
  },
  "language_info": {
   "codemirror_mode": {
    "name": "ipython",
    "version": 3
   },
   "file_extension": ".py",
   "mimetype": "text/x-python",
   "name": "python",
   "nbconvert_exporter": "python",
   "pygments_lexer": "ipython3",
   "version": "3.10.12"
  }
 },
 "nbformat": 4,
 "nbformat_minor": 5
}
